{
 "cells": [
  {
   "cell_type": "code",
   "execution_count": 11,
   "metadata": {},
   "outputs": [
    {
     "name": "stdout",
     "output_type": "stream",
     "text": [
      "From city: Arad\n",
      "To city: Bucharest\n",
      "Best route: Arad - Sibiu - RimnicuVilcea - Pitesti - Bucharest\n",
      "Total distance:  418\n"
     ]
    }
   ],
   "source": [
    "with open('distances.txt') as file:\n",
    "    distances = list(file.read().splitlines()) #store each individual line from the file as an element of a list\n",
    "\n",
    "distances_to_bucharest = {}\n",
    "for city in distances:\n",
    "    city_bucharest = city.split('-') # split city/distance into a size-2 list\n",
    "    distances_to_bucharest[city_bucharest[0]] = int(city_bucharest[1]) #add to dictionary\n",
    "#print(distances_to_bucharest)\n",
    "\n",
    "general_map = {}\n",
    "with open('map.txt') as file:\n",
    "    city_cities = list(file.read().splitlines()) #store each individual line from the file as an element of a list\n",
    "    for city in city_cities:\n",
    "        city_neighbors = city.split('-') # store each city and its neighbors in a list\n",
    "\n",
    "        neighbors = city_neighbors[1].split(',') # store the neighbors of a city and their distance\n",
    "        neighbors_map = {}\n",
    "        for neighbor in neighbors:\n",
    "            # remove parentheses\n",
    "            clean_neighbor = neighbor.replace('(', ' ')\n",
    "            clean_neighbor = clean_neighbor.replace(')', '')\n",
    "            # make a list consisting of 2 elements: the neighbor and its distance\n",
    "            neighbor_distance = clean_neighbor.split(' ')\n",
    "            # store in neighbors_map\n",
    "            neighbors_map[neighbor_distance[0]] = int(neighbor_distance[1])\n",
    "\n",
    "        #city_neighbors[0] is the first city of each line, and will have its own dictionary\n",
    "        general_map[city_neighbors[0]] = neighbors_map\n",
    "#print(general_map)    \n",
    "\n",
    "path = []\n",
    "from_city = input(\"From city: \") # Arad\n",
    "path.append(from_city)\n",
    "to_city = input(\"To city: \") # Bucharest\n",
    "\n",
    "current_city = from_city\n",
    "current_total = 0 # cumulative g(n)\n",
    "\n",
    "while current_city != to_city:\n",
    "    #print(\"\\ncurrent city:\", current_city)\n",
    "    for city in general_map: # remove visited city\n",
    "        if current_city in general_map[city]:\n",
    "            general_map[city].pop(current_city)\n",
    "        \n",
    "    sums = {}\n",
    "    #print(\"neighbors:\", general_map[current_city])\n",
    "    for city in general_map[current_city]: # calculate cost of each neighobr\n",
    "        f_n = general_map[current_city][city] + distances_to_bucharest[city] # f(n) = g(n) + h(n) = actual + estimated\n",
    "        sums[city] = f_n\n",
    "\n",
    "    #print(\"sums:\", sums)\n",
    "    current_total += general_map[current_city][min(sums, key = sums.get)]\n",
    "    #print(\"current total =\", current_total)\n",
    "    current_city = min(sums, key = sums.get)\n",
    "    #print(\"new city: \", current_city)\n",
    "    path.append(current_city) # add to best path\n",
    "\n",
    "best_path = ' - '.join(str(city) for city in path)\n",
    "print(\"Best route:\", best_path)\n",
    "print(\"Total distance: \", current_total)"
   ]
  },
  {
   "cell_type": "code",
   "execution_count": null,
   "metadata": {},
   "outputs": [],
   "source": []
  },
  {
   "cell_type": "code",
   "execution_count": null,
   "metadata": {},
   "outputs": [],
   "source": []
  },
  {
   "cell_type": "code",
   "execution_count": null,
   "metadata": {},
   "outputs": [],
   "source": []
  },
  {
   "cell_type": "code",
   "execution_count": null,
   "metadata": {},
   "outputs": [],
   "source": []
  }
 ],
 "metadata": {
  "kernelspec": {
   "display_name": "Python 3",
   "language": "python",
   "name": "python3"
  },
  "language_info": {
   "codemirror_mode": {
    "name": "ipython",
    "version": 3
   },
   "file_extension": ".py",
   "mimetype": "text/x-python",
   "name": "python",
   "nbconvert_exporter": "python",
   "pygments_lexer": "ipython3",
   "version": "3.8.3"
  }
 },
 "nbformat": 4,
 "nbformat_minor": 4
}
